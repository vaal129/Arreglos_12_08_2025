{
  "nbformat": 4,
  "nbformat_minor": 0,
  "metadata": {
    "colab": {
      "provenance": [],
      "authorship_tag": "ABX9TyOyFqzab/1OOht/U/kxbnWc",
      "include_colab_link": true
    },
    "kernelspec": {
      "name": "python3",
      "display_name": "Python 3"
    },
    "language_info": {
      "name": "python"
    }
  },
  "cells": [
    {
      "cell_type": "markdown",
      "metadata": {
        "id": "view-in-github",
        "colab_type": "text"
      },
      "source": [
        "<a href=\"https://colab.research.google.com/github/vaal129/Arreglos_12_08_2025/blob/main/vectores.ipynb\" target=\"_parent\"><img src=\"https://colab.research.google.com/assets/colab-badge.svg\" alt=\"Open In Colab\"/></a>"
      ]
    },
    {
      "cell_type": "code",
      "execution_count": 1,
      "metadata": {
        "colab": {
          "base_uri": "https://localhost:8080/"
        },
        "id": "2y7G0CPKnYyn",
        "outputId": "14a4b672-441d-48e7-a41d-bb1f0195411d"
      },
      "outputs": [
        {
          "output_type": "stream",
          "name": "stdout",
          "text": [
            "[1 2 3 4 5]\n",
            "3\n",
            "[0. 0. 0. 0. 0.]\n",
            "[1. 1. 1. 1. 1.]\n",
            "rango [1 2 3 4 5 6 7 8 9]\n",
            "linspace [ 1.    3.25  5.5   7.75 10.  ]\n",
            "random [0.70294086 0.8934985  0.33596643 0.04982908 0.08448442 0.30475149\n",
            " 0.25739024 0.68132012 0.75104067 0.05858329]\n",
            "random int [8 4 1 6 6 6 4 1 3 5 3 5 3 4 6 1 9 1 1 7 3 1 3 8 5 9 7 2 3 1 4 9 5 1 5 9 3\n",
            " 5 9 3 8 5 1 7 7 7 3 2 7 7 1 8 6 1 8 5 6 7 1 8 4 7 9 3 8 8 2 9 6 8 8 5 3 3\n",
            " 9 7 3 6 8 3 9 6 8 5 8 1 8 8 5 7 1 4 3 3 8 8 6 1 3 5]\n"
          ]
        }
      ],
      "source": [
        "import numpy as np #np es un alias para recortar el nombre de numpy\n",
        "\n",
        "vector = np.array([1, 2, 3, 4, 5])\n",
        "print(vector)\n",
        "\n",
        "print (vector[2])\n",
        "\n",
        "\"\"\"Los vectores o son como las listas, no tiene  un metodo end() para agregar elementos o tienen un metodo pop() para eliminar elementos, pero si tenen metodo reshape()\n",
        " para cambiar su forma, adicionalmente despues creado no se puede cambiar el tamaño del vector. \"\"\"\n",
        "\n",
        "vector1  = np.zeros(5)\n",
        "print(vector1)\n",
        "\n",
        "vector2 = np.ones(5)\n",
        "print(vector2)\n",
        "\n",
        "vector3 = np.arange(1,10)\n",
        "print(\"rango\", vector3)\n",
        "\n",
        "vector4 = np.linspace(1,10,5)\n",
        "print(\"linspace\", vector4)\n",
        "\n",
        "vector5 = np.random.rand(10)\n",
        "print(\"random\", vector5)\n",
        "\n",
        "vector6 = np.random.randint(1,10,100)\n",
        "print(\"random int\", vector6)"
      ]
    },
    {
      "cell_type": "code",
      "source": [
        "import numpy as np\n",
        "\n",
        "vector1 = np.array([1, 2, 3])\n",
        "vector2 = np.array([4, 5, 6])\n",
        "\n",
        "suma= vector1 + vector2\n",
        "print(\"\\033[31mSuma de vectores:\", suma, \"\\033[0m\")\n",
        "\n",
        "resta = vector1 - vector2\n",
        "print(\"\\033[33mResta de vectores:\", resta, \"\\033[0m\")\n",
        "\n",
        "producto = vector1 * vector2\n",
        "print(\"\\033[32mProducto de vectores:\", producto, \"\\033[0m\")\n",
        "\n",
        "division = vector1 / vector2\n",
        "print(\"\\033[36mDivision de vectores:\", division, \"\\033[0m\")\n",
        "\n",
        "potencia = vector1 ** 2\n",
        "print(\"\\033[35mPotencia de vectores:\", potencia, \"\\033[0m\")"
      ],
      "metadata": {
        "colab": {
          "base_uri": "https://localhost:8080/"
        },
        "id": "DB2zl4_I2VVJ",
        "outputId": "0db6e1d5-066f-4cee-a161-2a9adf9f2d02"
      },
      "execution_count": 2,
      "outputs": [
        {
          "output_type": "stream",
          "name": "stdout",
          "text": [
            "\u001b[31mSuma de vectores: [5 7 9] \u001b[0m\n",
            "\u001b[33mResta de vectores: [-3 -3 -3] \u001b[0m\n",
            "\u001b[32mProducto de vectores: [ 4 10 18] \u001b[0m\n",
            "\u001b[36mDivision de vectores: [0.25 0.4  0.5 ] \u001b[0m\n",
            "\u001b[35mPotencia de vectores: [1 4 9] \u001b[0m\n"
          ]
        }
      ]
    }
  ]
}